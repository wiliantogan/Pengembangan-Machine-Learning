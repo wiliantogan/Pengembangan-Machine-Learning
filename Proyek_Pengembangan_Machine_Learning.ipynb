{
  "nbformat": 4,
  "nbformat_minor": 0,
  "metadata": {
    "colab": {
      "name": "Proyek_Pengembangan_Machine_Learning (1).ipynb",
      "provenance": [],
      "collapsed_sections": []
    },
    "kernelspec": {
      "name": "python3",
      "display_name": "Python 3"
    },
    "language_info": {
      "name": "python"
    }
  },
  "cells": [
    {
      "cell_type": "markdown",
      "source": [
        "**Nama : Wilianto, S.T., S.Pd., M.M, M.T.I.**\n",
        "\n",
        ">Dataset : \"Movie Genre Data\"\\\n",
        ">Sumber : Kaggle\\\n",
        ">Link Dataset : https://www.kaggle.com/lokkagle/nlp-movie-genre-classification/data\n"
      ],
      "metadata": {
        "id": "b7eg7fJtO2nw"
      }
    },
    {
      "cell_type": "markdown",
      "source": [
        "Libraries"
      ],
      "metadata": {
        "id": "VsFRiFQYQi2O"
      }
    },
    {
      "cell_type": "code",
      "source": [
        "from google.colab import drive\n",
        "\n",
        "# u/ dataframe\n",
        "import pandas as pd\n",
        "import re\n",
        "\n",
        "# u/ split data\n",
        "from sklearn.model_selection import train_test_split\n",
        "\n",
        "# u/ preprocessing dan layer\n",
        "import tensorflow as tf\n",
        "from tensorflow.keras.preprocessing.text import Tokenizer\n",
        "from tensorflow.keras.preprocessing.sequence import pad_sequences\n",
        "from tensorflow.keras.layers import LSTM,Dense,Embedding,Dropout\n",
        "from tensorflow.keras.models import Sequential\n",
        "from tensorflow.keras.optimizers import Adam\n",
        "\n",
        "# u/ visualisasi plot\n",
        "import matplotlib.pyplot as plt"
      ],
      "metadata": {
        "id": "mXk-Tkg4QofS"
      },
      "execution_count": 74,
      "outputs": []
    },
    {
      "cell_type": "markdown",
      "source": [
        "Mount ke Drive"
      ],
      "metadata": {
        "id": "tGb159sXRMiS"
      }
    },
    {
      "cell_type": "code",
      "source": [
        "drive.mount('/content/drive/')"
      ],
      "metadata": {
        "colab": {
          "base_uri": "https://localhost:8080/"
        },
        "id": "lbpuARjlRQ9P",
        "outputId": "9812c2eb-f6a8-4904-ff26-e1ea48f72ac9"
      },
      "execution_count": 75,
      "outputs": [
        {
          "output_type": "stream",
          "name": "stdout",
          "text": [
            "Drive already mounted at /content/drive/; to attempt to forcibly remount, call drive.mount(\"/content/drive/\", force_remount=True).\n"
          ]
        }
      ]
    },
    {
      "cell_type": "markdown",
      "source": [
        "Read Dataset dari Drive"
      ],
      "metadata": {
        "id": "lHlTlddlRjF3"
      }
    },
    {
      "cell_type": "code",
      "source": [
        "df = pd.read_csv(\"/content/drive/MyDrive/Dicoding/kaggle_movie_train.csv\")\n",
        "df.head()"
      ],
      "metadata": {
        "colab": {
          "base_uri": "https://localhost:8080/",
          "height": 206
        },
        "id": "UWEnDnLMRqSj",
        "outputId": "26b85f2f-a26f-4920-8616-e83199ae1e10"
      },
      "execution_count": 76,
      "outputs": [
        {
          "output_type": "execute_result",
          "data": {
            "text/html": [
              "<div>\n",
              "<style scoped>\n",
              "    .dataframe tbody tr th:only-of-type {\n",
              "        vertical-align: middle;\n",
              "    }\n",
              "\n",
              "    .dataframe tbody tr th {\n",
              "        vertical-align: top;\n",
              "    }\n",
              "\n",
              "    .dataframe thead th {\n",
              "        text-align: right;\n",
              "    }\n",
              "</style>\n",
              "<table border=\"1\" class=\"dataframe\">\n",
              "  <thead>\n",
              "    <tr style=\"text-align: right;\">\n",
              "      <th></th>\n",
              "      <th>id</th>\n",
              "      <th>text</th>\n",
              "      <th>genre</th>\n",
              "    </tr>\n",
              "  </thead>\n",
              "  <tbody>\n",
              "    <tr>\n",
              "      <th>0</th>\n",
              "      <td>0</td>\n",
              "      <td>eady dead, maybe even wishing he was. INT. 2ND...</td>\n",
              "      <td>thriller</td>\n",
              "    </tr>\n",
              "    <tr>\n",
              "      <th>1</th>\n",
              "      <td>2</td>\n",
              "      <td>t, summa cum laude and all. And I'm about to l...</td>\n",
              "      <td>comedy</td>\n",
              "    </tr>\n",
              "    <tr>\n",
              "      <th>2</th>\n",
              "      <td>3</td>\n",
              "      <td>up Come, I have a surprise.... She takes him ...</td>\n",
              "      <td>drama</td>\n",
              "    </tr>\n",
              "    <tr>\n",
              "      <th>3</th>\n",
              "      <td>4</td>\n",
              "      <td>ded by the two detectives. INT. JEFF'S APARTME...</td>\n",
              "      <td>thriller</td>\n",
              "    </tr>\n",
              "    <tr>\n",
              "      <th>4</th>\n",
              "      <td>5</td>\n",
              "      <td>nd dismounts, just as the other children reach...</td>\n",
              "      <td>drama</td>\n",
              "    </tr>\n",
              "  </tbody>\n",
              "</table>\n",
              "</div>"
            ],
            "text/plain": [
              "   id                                               text     genre\n",
              "0   0  eady dead, maybe even wishing he was. INT. 2ND...  thriller\n",
              "1   2  t, summa cum laude and all. And I'm about to l...    comedy\n",
              "2   3   up Come, I have a surprise.... She takes him ...     drama\n",
              "3   4  ded by the two detectives. INT. JEFF'S APARTME...  thriller\n",
              "4   5  nd dismounts, just as the other children reach...     drama"
            ]
          },
          "metadata": {},
          "execution_count": 76
        }
      ]
    },
    {
      "cell_type": "markdown",
      "source": [
        "Memeriksa jumlah value tiap genre"
      ],
      "metadata": {
        "id": "8QSR672qR7NL"
      }
    },
    {
      "cell_type": "code",
      "source": [
        "df['genre'].value_counts()"
      ],
      "metadata": {
        "colab": {
          "base_uri": "https://localhost:8080/"
        },
        "id": "iB1rujzzSAQ9",
        "outputId": "74ad1add-0fc1-4e2b-c07d-8393e1ec0796"
      },
      "execution_count": 77,
      "outputs": [
        {
          "output_type": "execute_result",
          "data": {
            "text/plain": [
              "drama        8873\n",
              "thriller     6824\n",
              "comedy       2941\n",
              "action       2392\n",
              "sci-fi        613\n",
              "horror        456\n",
              "other         270\n",
              "adventure     147\n",
              "romance        63\n",
              "Name: genre, dtype: int64"
            ]
          },
          "metadata": {},
          "execution_count": 77
        }
      ]
    },
    {
      "cell_type": "markdown",
      "source": [
        "Kita akan menggunakan 4 genre saja kali ini yaitu: comedy, action, horror, dan adventure"
      ],
      "metadata": {
        "id": "JfomCBk-Sydi"
      }
    },
    {
      "cell_type": "code",
      "source": [
        "# Menghapus genre selain 4 genre tersebut\n",
        "df = df[~df['genre'].isin(['drama','thriller','sci-fi','other','romance'])]\n",
        "df['genre'].value_counts()"
      ],
      "metadata": {
        "colab": {
          "base_uri": "https://localhost:8080/"
        },
        "id": "Hf2W-RvwS11j",
        "outputId": "7f4cb5b3-a34f-4b30-a473-bda238ab70c8"
      },
      "execution_count": 78,
      "outputs": [
        {
          "output_type": "execute_result",
          "data": {
            "text/plain": [
              "comedy       2941\n",
              "action       2392\n",
              "horror        456\n",
              "adventure     147\n",
              "Name: genre, dtype: int64"
            ]
          },
          "metadata": {},
          "execution_count": 78
        }
      ]
    },
    {
      "cell_type": "markdown",
      "source": [
        "Proses awal text kolom"
      ],
      "metadata": {
        "id": "ZiYkm_FyTMrq"
      }
    },
    {
      "cell_type": "code",
      "source": [
        "# Menghapus special character di kolom text\n",
        "df['Text'] = df['text'].map(lambda x: re.sub(r'\\W+', ' ', x))\n",
        "# drop kolom text lama\n",
        "df = df.drop(['id','text'], axis=1)\n",
        "df.head()"
      ],
      "metadata": {
        "colab": {
          "base_uri": "https://localhost:8080/",
          "height": 206
        },
        "id": "LzOHfCPWTTpm",
        "outputId": "91019a93-0674-42fb-b970-c7ff512bc966"
      },
      "execution_count": 79,
      "outputs": [
        {
          "output_type": "execute_result",
          "data": {
            "text/html": [
              "<div>\n",
              "<style scoped>\n",
              "    .dataframe tbody tr th:only-of-type {\n",
              "        vertical-align: middle;\n",
              "    }\n",
              "\n",
              "    .dataframe tbody tr th {\n",
              "        vertical-align: top;\n",
              "    }\n",
              "\n",
              "    .dataframe thead th {\n",
              "        text-align: right;\n",
              "    }\n",
              "</style>\n",
              "<table border=\"1\" class=\"dataframe\">\n",
              "  <thead>\n",
              "    <tr style=\"text-align: right;\">\n",
              "      <th></th>\n",
              "      <th>genre</th>\n",
              "      <th>Text</th>\n",
              "    </tr>\n",
              "  </thead>\n",
              "  <tbody>\n",
              "    <tr>\n",
              "      <th>1</th>\n",
              "      <td>comedy</td>\n",
              "      <td>t summa cum laude and all And I m about to lau...</td>\n",
              "    </tr>\n",
              "    <tr>\n",
              "      <th>9</th>\n",
              "      <td>action</td>\n",
              "      <td>e reels as the world spins Sweat pours off him...</td>\n",
              "    </tr>\n",
              "    <tr>\n",
              "      <th>20</th>\n",
              "      <td>comedy</td>\n",
              "      <td>I say he s a man who ll go far Some people sa...</td>\n",
              "    </tr>\n",
              "    <tr>\n",
              "      <th>25</th>\n",
              "      <td>comedy</td>\n",
              "      <td>you find out where the bachelor party is COLE ...</td>\n",
              "    </tr>\n",
              "    <tr>\n",
              "      <th>29</th>\n",
              "      <td>comedy</td>\n",
              "      <td>ibly horrendous public break up on the quad Ag...</td>\n",
              "    </tr>\n",
              "  </tbody>\n",
              "</table>\n",
              "</div>"
            ],
            "text/plain": [
              "     genre                                               Text\n",
              "1   comedy  t summa cum laude and all And I m about to lau...\n",
              "9   action  e reels as the world spins Sweat pours off him...\n",
              "20  comedy   I say he s a man who ll go far Some people sa...\n",
              "25  comedy  you find out where the bachelor party is COLE ...\n",
              "29  comedy  ibly horrendous public break up on the quad Ag..."
            ]
          },
          "metadata": {},
          "execution_count": 79
        }
      ]
    },
    {
      "cell_type": "markdown",
      "source": [
        "Pemeriksaan data kosong"
      ],
      "metadata": {
        "id": "FuaahycwTvYt"
      }
    },
    {
      "cell_type": "code",
      "source": [
        "# Mememriksa nilai kosong / nan\n",
        "# Jika true maka ada dan jika false maka tidak ada nilai kosong / nan\n",
        "df.isnull().values.any()"
      ],
      "metadata": {
        "colab": {
          "base_uri": "https://localhost:8080/"
        },
        "id": "mbDHHnjRTzbf",
        "outputId": "2eee6230-26c7-4844-86d2-bf07064674e1"
      },
      "execution_count": 80,
      "outputs": [
        {
          "output_type": "execute_result",
          "data": {
            "text/plain": [
              "False"
            ]
          },
          "metadata": {},
          "execution_count": 80
        }
      ]
    },
    {
      "cell_type": "markdown",
      "source": [
        "Pelabelan genre"
      ],
      "metadata": {
        "id": "lwh9b82eT-AJ"
      }
    },
    {
      "cell_type": "code",
      "source": [
        "genre = pd.get_dummies(df.genre)\n",
        "df_genre = pd.concat([df, genre], axis=1)\n",
        "df_genre = df_genre.drop(columns='genre')\n",
        "df_genre.head()"
      ],
      "metadata": {
        "colab": {
          "base_uri": "https://localhost:8080/",
          "height": 206
        },
        "id": "AxLevKsHUBAZ",
        "outputId": "10568ccb-821b-4f66-e1dd-2d55bd52dfff"
      },
      "execution_count": 81,
      "outputs": [
        {
          "output_type": "execute_result",
          "data": {
            "text/html": [
              "<div>\n",
              "<style scoped>\n",
              "    .dataframe tbody tr th:only-of-type {\n",
              "        vertical-align: middle;\n",
              "    }\n",
              "\n",
              "    .dataframe tbody tr th {\n",
              "        vertical-align: top;\n",
              "    }\n",
              "\n",
              "    .dataframe thead th {\n",
              "        text-align: right;\n",
              "    }\n",
              "</style>\n",
              "<table border=\"1\" class=\"dataframe\">\n",
              "  <thead>\n",
              "    <tr style=\"text-align: right;\">\n",
              "      <th></th>\n",
              "      <th>Text</th>\n",
              "      <th>action</th>\n",
              "      <th>adventure</th>\n",
              "      <th>comedy</th>\n",
              "      <th>horror</th>\n",
              "    </tr>\n",
              "  </thead>\n",
              "  <tbody>\n",
              "    <tr>\n",
              "      <th>1</th>\n",
              "      <td>t summa cum laude and all And I m about to lau...</td>\n",
              "      <td>0</td>\n",
              "      <td>0</td>\n",
              "      <td>1</td>\n",
              "      <td>0</td>\n",
              "    </tr>\n",
              "    <tr>\n",
              "      <th>9</th>\n",
              "      <td>e reels as the world spins Sweat pours off him...</td>\n",
              "      <td>1</td>\n",
              "      <td>0</td>\n",
              "      <td>0</td>\n",
              "      <td>0</td>\n",
              "    </tr>\n",
              "    <tr>\n",
              "      <th>20</th>\n",
              "      <td>I say he s a man who ll go far Some people sa...</td>\n",
              "      <td>0</td>\n",
              "      <td>0</td>\n",
              "      <td>1</td>\n",
              "      <td>0</td>\n",
              "    </tr>\n",
              "    <tr>\n",
              "      <th>25</th>\n",
              "      <td>you find out where the bachelor party is COLE ...</td>\n",
              "      <td>0</td>\n",
              "      <td>0</td>\n",
              "      <td>1</td>\n",
              "      <td>0</td>\n",
              "    </tr>\n",
              "    <tr>\n",
              "      <th>29</th>\n",
              "      <td>ibly horrendous public break up on the quad Ag...</td>\n",
              "      <td>0</td>\n",
              "      <td>0</td>\n",
              "      <td>1</td>\n",
              "      <td>0</td>\n",
              "    </tr>\n",
              "  </tbody>\n",
              "</table>\n",
              "</div>"
            ],
            "text/plain": [
              "                                                 Text  action  ...  comedy  horror\n",
              "1   t summa cum laude and all And I m about to lau...       0  ...       1       0\n",
              "9   e reels as the world spins Sweat pours off him...       1  ...       0       0\n",
              "20   I say he s a man who ll go far Some people sa...       0  ...       1       0\n",
              "25  you find out where the bachelor party is COLE ...       0  ...       1       0\n",
              "29  ibly horrendous public break up on the quad Ag...       0  ...       1       0\n",
              "\n",
              "[5 rows x 5 columns]"
            ]
          },
          "metadata": {},
          "execution_count": 81
        }
      ]
    },
    {
      "cell_type": "markdown",
      "source": [
        "Merubah tipe data"
      ],
      "metadata": {
        "id": "_Hf70ZjoUREr"
      }
    },
    {
      "cell_type": "code",
      "source": [
        "# Merubah tipe data menjadi str dan numpy array \n",
        "text = df_genre['Text'].astype(str)\n",
        "label = df_genre[['comedy', 'action','horror','adventure']].values"
      ],
      "metadata": {
        "id": "xjRfgXqFUTlh"
      },
      "execution_count": 82,
      "outputs": []
    },
    {
      "cell_type": "markdown",
      "source": [
        "Split dataset menjadi 20% validation/test"
      ],
      "metadata": {
        "id": "u4kSvwIFU0nS"
      }
    },
    {
      "cell_type": "code",
      "source": [
        "genre_train, genre_test, label_train, label_test = train_test_split(text, label, test_size = 0.2)"
      ],
      "metadata": {
        "id": "PK7XXp5iU-VU"
      },
      "execution_count": 83,
      "outputs": []
    },
    {
      "cell_type": "markdown",
      "source": [
        "Penggunaan tokenizer"
      ],
      "metadata": {
        "id": "_2gzHVovVL97"
      }
    },
    {
      "cell_type": "code",
      "source": [
        "# Konversi ke sequence\n",
        "tokenizer = Tokenizer(num_words=5000, oov_token='x')\n",
        "tokenizer.fit_on_texts(genre_train) \n",
        "tokenizer.fit_on_texts(genre_test)\n",
        " \n",
        "sekuens_train = tokenizer.texts_to_sequences(genre_train)\n",
        "sekuens_test = tokenizer.texts_to_sequences(genre_test)\n",
        " \n",
        "padded_train = pad_sequences(sekuens_train) \n",
        "padded_test = pad_sequences(sekuens_test)"
      ],
      "metadata": {
        "id": "mpvQWmEsVNiw"
      },
      "execution_count": 84,
      "outputs": []
    },
    {
      "cell_type": "markdown",
      "source": [
        "Pemodelan Sequential dengan Embedding dan LSTM"
      ],
      "metadata": {
        "id": "25akZjI4Vf19"
      }
    },
    {
      "cell_type": "code",
      "source": [
        "model = Sequential([\n",
        "    Embedding(input_dim=5000, output_dim=16),\n",
        "    LSTM(64),\n",
        "    Dense(128, activation='relu'),\n",
        "    Dropout(0.5),\n",
        "    Dense(4, activation='softmax')\n",
        "])"
      ],
      "metadata": {
        "id": "qLeN31-yVhoB"
      },
      "execution_count": 85,
      "outputs": []
    },
    {
      "cell_type": "markdown",
      "source": [
        "Model compile dengan optimizer Adam"
      ],
      "metadata": {
        "id": "gjkY2nVaVsHr"
      }
    },
    {
      "cell_type": "code",
      "source": [
        "#Adam(learning_rate=0.00146, name='Adam')\n",
        "model.compile(optimizer = 'Adam',loss = 'categorical_crossentropy',metrics = ['accuracy'])\n",
        "model.summary()"
      ],
      "metadata": {
        "id": "NPzzXVPnVtgr",
        "colab": {
          "base_uri": "https://localhost:8080/"
        },
        "outputId": "8e8f74da-6daf-4e9a-92de-e2cfede2f018"
      },
      "execution_count": 86,
      "outputs": [
        {
          "output_type": "stream",
          "name": "stdout",
          "text": [
            "Model: \"sequential_4\"\n",
            "_________________________________________________________________\n",
            " Layer (type)                Output Shape              Param #   \n",
            "=================================================================\n",
            " embedding_4 (Embedding)     (None, None, 16)          80000     \n",
            "                                                                 \n",
            " lstm_4 (LSTM)               (None, 64)                20736     \n",
            "                                                                 \n",
            " dense_8 (Dense)             (None, 128)               8320      \n",
            "                                                                 \n",
            " dropout_4 (Dropout)         (None, 128)               0         \n",
            "                                                                 \n",
            " dense_9 (Dense)             (None, 4)                 516       \n",
            "                                                                 \n",
            "=================================================================\n",
            "Total params: 109,572\n",
            "Trainable params: 109,572\n",
            "Non-trainable params: 0\n",
            "_________________________________________________________________\n"
          ]
        }
      ]
    },
    {
      "cell_type": "markdown",
      "source": [
        "Penggunaan callback untuk accuracy dan validation diatas 90%"
      ],
      "metadata": {
        "id": "HfWWJpnvV2nh"
      }
    },
    {
      "cell_type": "code",
      "source": [
        "class myCallback(tf.keras.callbacks.Callback):\n",
        "  def on_epoch_end(self, epoch, logs={}):\n",
        "    if(logs.get('accuracy')>0.9 and logs.get('val_accuracy')>0.9):\n",
        "      print(\"\\nAkurasi train dan validasi didapat telah mencapai nilai > 90%!\")\n",
        "      self.model.stop_training = True\n",
        "callbacks = myCallback()"
      ],
      "metadata": {
        "id": "uRN7yTedV9iD"
      },
      "execution_count": 87,
      "outputs": []
    },
    {
      "cell_type": "markdown",
      "source": [
        "Melatih model"
      ],
      "metadata": {
        "id": "IxDP348JWFkM"
      }
    },
    {
      "cell_type": "code",
      "source": [
        "num_epochs = 30\n",
        "history = model.fit(padded_train, label_train, epochs=num_epochs, validation_data=(padded_test, label_test), verbose=2, callbacks=[callbacks])"
      ],
      "metadata": {
        "colab": {
          "base_uri": "https://localhost:8080/"
        },
        "id": "tWwmSuLheje9",
        "outputId": "11d319b6-cdc2-415d-ad2d-e06ffcdebd55"
      },
      "execution_count": 88,
      "outputs": [
        {
          "output_type": "stream",
          "name": "stdout",
          "text": [
            "Epoch 1/30\n",
            "149/149 - 24s - loss: 1.0384 - accuracy: 0.4777 - val_loss: 1.0119 - val_accuracy: 0.4756 - 24s/epoch - 161ms/step\n",
            "Epoch 2/30\n",
            "149/149 - 22s - loss: 0.8482 - accuracy: 0.5729 - val_loss: 0.8019 - val_accuracy: 0.5648 - 22s/epoch - 145ms/step\n",
            "Epoch 3/30\n",
            "149/149 - 21s - loss: 0.4587 - accuracy: 0.8275 - val_loss: 0.4734 - val_accuracy: 0.8089 - 21s/epoch - 144ms/step\n",
            "Epoch 4/30\n",
            "149/149 - 22s - loss: 0.2601 - accuracy: 0.9130 - val_loss: 0.3799 - val_accuracy: 0.8670 - 22s/epoch - 145ms/step\n",
            "Epoch 5/30\n",
            "149/149 - 22s - loss: 0.1808 - accuracy: 0.9387 - val_loss: 0.4815 - val_accuracy: 0.8434 - 22s/epoch - 145ms/step\n",
            "Epoch 6/30\n",
            "149/149 - 21s - loss: 0.1388 - accuracy: 0.9520 - val_loss: 0.3523 - val_accuracy: 0.8864 - 21s/epoch - 142ms/step\n",
            "Epoch 7/30\n",
            "149/149 - 21s - loss: 0.0812 - accuracy: 0.9695 - val_loss: 0.3528 - val_accuracy: 0.8914 - 21s/epoch - 144ms/step\n",
            "Epoch 8/30\n",
            "149/149 - 21s - loss: 0.0592 - accuracy: 0.9779 - val_loss: 0.5505 - val_accuracy: 0.8822 - 21s/epoch - 143ms/step\n",
            "Epoch 9/30\n",
            "149/149 - 21s - loss: 0.0554 - accuracy: 0.9791 - val_loss: 0.4017 - val_accuracy: 0.8923 - 21s/epoch - 144ms/step\n",
            "Epoch 10/30\n",
            "\n",
            "Akurasi train dan validasi didapat telah mencapai nilai > 90%!\n",
            "149/149 - 21s - loss: 0.0269 - accuracy: 0.9907 - val_loss: 0.3924 - val_accuracy: 0.9099 - 21s/epoch - 144ms/step\n"
          ]
        }
      ]
    },
    {
      "cell_type": "markdown",
      "source": [
        "Membuat plot loss"
      ],
      "metadata": {
        "id": "idkQKz0BWTBl"
      }
    },
    {
      "cell_type": "code",
      "source": [
        "# Plot Accuracy\n",
        "plt.plot(history.history['accuracy'])\n",
        "plt.plot(history.history['val_accuracy'])\n",
        "plt.title('Akurasi Model')\n",
        "plt.ylabel('accuracy')\n",
        "plt.xlabel('epoch')\n",
        "plt.legend(['train', 'test'], loc='upper left')\n",
        "plt.show()"
      ],
      "metadata": {
        "id": "JozP6kUCWUj1",
        "colab": {
          "base_uri": "https://localhost:8080/",
          "height": 294
        },
        "outputId": "802e4868-5595-44cf-81bd-d1992956c31d"
      },
      "execution_count": 89,
      "outputs": [
        {
          "output_type": "display_data",
          "data": {
            "image/png": "[encoded data removed]",
            "text/plain": [
              "<Figure size 432x288 with 1 Axes>"
            ]
          },
          "metadata": {
            "needs_background": "light"
          }
        }
      ]
    },
    {
      "cell_type": "markdown",
      "source": [
        "Membuat plot accuracy"
      ],
      "metadata": {
        "id": "EDoAWW18WgRU"
      }
    },
    {
      "cell_type": "code",
      "source": [
        "# Plot Loss\n",
        "plt.plot(history.history['loss'])\n",
        "plt.plot(history.history['val_loss'])\n",
        "plt.title('Loss Model')\n",
        "plt.ylabel('loss')\n",
        "plt.xlabel('epoch')\n",
        "plt.legend(['train', 'test'], loc='upper left')\n",
        "plt.show()"
      ],
      "metadata": {
        "id": "XJK-2tnCWkdr",
        "colab": {
          "base_uri": "https://localhost:8080/",
          "height": 294
        },
        "outputId": "c22a304f-89d8-48de-a376-c4bb3b81ecc8"
      },
      "execution_count": 90,
      "outputs": [
        {
          "output_type": "display_data",
          "data": {
            "image/png": "[encoded data removed]",
            "text/plain": [
              "<Figure size 432x288 with 1 Axes>"
            ]
          },
          "metadata": {
            "needs_background": "light"
          }
        }
      ]
    }
  ]
}